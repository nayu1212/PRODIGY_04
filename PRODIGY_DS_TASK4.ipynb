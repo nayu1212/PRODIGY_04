{
 "cells": [
  {
   "cell_type": "code",
   "execution_count": 71,
   "id": "a2f7528b",
   "metadata": {},
   "outputs": [
    {
     "name": "stderr",
     "output_type": "stream",
     "text": [
      "[nltk_data] Downloading package punkt to ....\n",
      "[nltk_data]   Package punkt is already up-to-date!\n",
      "[nltk_data] Downloading package stopwords to ....\n",
      "[nltk_data]   Package stopwords is already up-to-date!\n",
      "[nltk_data] Downloading package stopwords to\n",
      "[nltk_data]     C:\\Users\\Karan\\AppData\\Roaming\\nltk_data...\n",
      "[nltk_data]   Package stopwords is already up-to-date!\n"
     ]
    }
   ],
   "source": [
    "import string\n",
    "import keras\n",
    "import pandas as pd\n",
    "import numpy as np\n",
    "import tensorflow as tf\n",
    "from gensim.models import Word2Vec\n",
    "\n",
    "import nltk\n",
    "nltk.download('punkt', download_dir='.')\n",
    "nltk.download('stopwords', download_dir='.')\n",
    "nltk.download('stopwords')\n",
    "\n",
    "from sklearn.feature_extraction.text import CountVectorizer\n",
    "from sklearn.metrics import pairwise_distances\n",
    "from livelossplot.tf_keras import PlotLossesCallback\n",
    "\n",
    "import warnings\n",
    "warnings.filterwarnings(\"ignore\")"
   ]
  },
  {
   "cell_type": "code",
   "execution_count": 72,
   "id": "2fca0785",
   "metadata": {},
   "outputs": [
    {
     "data": {
      "text/html": [
       "<div>\n",
       "<style scoped>\n",
       "    .dataframe tbody tr th:only-of-type {\n",
       "        vertical-align: middle;\n",
       "    }\n",
       "\n",
       "    .dataframe tbody tr th {\n",
       "        vertical-align: top;\n",
       "    }\n",
       "\n",
       "    .dataframe thead th {\n",
       "        text-align: right;\n",
       "    }\n",
       "</style>\n",
       "<table border=\"1\" class=\"dataframe\">\n",
       "  <thead>\n",
       "    <tr style=\"text-align: right;\">\n",
       "      <th></th>\n",
       "      <th>2401</th>\n",
       "      <th>Borderlands</th>\n",
       "      <th>Positive</th>\n",
       "      <th>im getting on borderlands and i will murder you all ,</th>\n",
       "    </tr>\n",
       "  </thead>\n",
       "  <tbody>\n",
       "    <tr>\n",
       "      <th>0</th>\n",
       "      <td>2401</td>\n",
       "      <td>Borderlands</td>\n",
       "      <td>Positive</td>\n",
       "      <td>I am coming to the borders and I will kill you...</td>\n",
       "    </tr>\n",
       "    <tr>\n",
       "      <th>1</th>\n",
       "      <td>2401</td>\n",
       "      <td>Borderlands</td>\n",
       "      <td>Positive</td>\n",
       "      <td>im getting on borderlands and i will kill you ...</td>\n",
       "    </tr>\n",
       "    <tr>\n",
       "      <th>2</th>\n",
       "      <td>2401</td>\n",
       "      <td>Borderlands</td>\n",
       "      <td>Positive</td>\n",
       "      <td>im coming on borderlands and i will murder you...</td>\n",
       "    </tr>\n",
       "    <tr>\n",
       "      <th>3</th>\n",
       "      <td>2401</td>\n",
       "      <td>Borderlands</td>\n",
       "      <td>Positive</td>\n",
       "      <td>im getting on borderlands 2 and i will murder ...</td>\n",
       "    </tr>\n",
       "    <tr>\n",
       "      <th>4</th>\n",
       "      <td>2401</td>\n",
       "      <td>Borderlands</td>\n",
       "      <td>Positive</td>\n",
       "      <td>im getting into borderlands and i can murder y...</td>\n",
       "    </tr>\n",
       "  </tbody>\n",
       "</table>\n",
       "</div>"
      ],
      "text/plain": [
       "   2401  Borderlands  Positive  \\\n",
       "0  2401  Borderlands  Positive   \n",
       "1  2401  Borderlands  Positive   \n",
       "2  2401  Borderlands  Positive   \n",
       "3  2401  Borderlands  Positive   \n",
       "4  2401  Borderlands  Positive   \n",
       "\n",
       "  im getting on borderlands and i will murder you all ,  \n",
       "0  I am coming to the borders and I will kill you...     \n",
       "1  im getting on borderlands and i will kill you ...     \n",
       "2  im coming on borderlands and i will murder you...     \n",
       "3  im getting on borderlands 2 and i will murder ...     \n",
       "4  im getting into borderlands and i can murder y...     "
      ]
     },
     "execution_count": 72,
     "metadata": {},
     "output_type": "execute_result"
    }
   ],
   "source": [
    "df = pd.read_csv('twitter_training.csv')\n",
    "df.head()"
   ]
  },
  {
   "cell_type": "code",
   "execution_count": 73,
   "id": "fac422c0",
   "metadata": {},
   "outputs": [
    {
     "data": {
      "text/plain": [
       "(74681, 4)"
      ]
     },
     "execution_count": 73,
     "metadata": {},
     "output_type": "execute_result"
    }
   ],
   "source": [
    "df.shape"
   ]
  },
  {
   "cell_type": "code",
   "execution_count": 74,
   "id": "d747abdf",
   "metadata": {},
   "outputs": [],
   "source": [
    "df.drop(df[df.iloc[:, -1].isnull()].index, inplace=True)"
   ]
  },
  {
   "cell_type": "code",
   "execution_count": 75,
   "id": "1f73f7d0",
   "metadata": {},
   "outputs": [
    {
     "data": {
      "text/plain": [
       "(73995, 4)"
      ]
     },
     "execution_count": 75,
     "metadata": {},
     "output_type": "execute_result"
    }
   ],
   "source": [
    "df.shape"
   ]
  },
  {
   "cell_type": "code",
   "execution_count": 76,
   "id": "75713af7",
   "metadata": {},
   "outputs": [],
   "source": [
    "def tokenize_text(text):\n",
    "  tokenized_str = nltk.word_tokenize(text)\n",
    "  stop_words = nltk.corpus.stopwords.words('english')\n",
    "  tokens = [i.lower() for i in tokenized_str if i not in string.punctuation]\n",
    "  tokens = [i.lower() for i in tokens if i not in stop_words]\n",
    "  return tokens"
   ]
  },
  {
   "cell_type": "code",
   "execution_count": 77,
   "id": "f6667a77",
   "metadata": {},
   "outputs": [
    {
     "data": {
      "text/plain": [
       "0                  [coming, borders, kill]\n",
       "1         [im, getting, borderlands, kill]\n",
       "2        [im, coming, borderlands, murder]\n",
       "3    [im, getting, borderlands, 2, murder]\n",
       "4       [im, getting, borderlands, murder]\n",
       "Name: im getting on borderlands and i will murder you all ,, dtype: object"
      ]
     },
     "execution_count": 77,
     "metadata": {},
     "output_type": "execute_result"
    }
   ],
   "source": [
    "tokensed_tweets = df.iloc[:, -1].apply(tokenize_text)\n",
    "tokensed_tweets[:5]"
   ]
  },
  {
   "cell_type": "code",
   "execution_count": 63,
   "id": "f8a2d84d",
   "metadata": {},
   "outputs": [],
   "source": [
    "df['tokensed_tweets'] = tokensed_tweets"
   ]
  },
  {
   "cell_type": "code",
   "execution_count": 64,
   "id": "70d97e68",
   "metadata": {},
   "outputs": [
    {
     "data": {
      "text/html": [
       "<div>\n",
       "<style scoped>\n",
       "    .dataframe tbody tr th:only-of-type {\n",
       "        vertical-align: middle;\n",
       "    }\n",
       "\n",
       "    .dataframe tbody tr th {\n",
       "        vertical-align: top;\n",
       "    }\n",
       "\n",
       "    .dataframe thead th {\n",
       "        text-align: right;\n",
       "    }\n",
       "</style>\n",
       "<table border=\"1\" class=\"dataframe\">\n",
       "  <thead>\n",
       "    <tr style=\"text-align: right;\">\n",
       "      <th></th>\n",
       "      <th>2401</th>\n",
       "      <th>Borderlands</th>\n",
       "      <th>Positive</th>\n",
       "      <th>im getting on borderlands and i will murder you all ,</th>\n",
       "      <th>tokensed_tweets</th>\n",
       "      <th>vect</th>\n",
       "    </tr>\n",
       "  </thead>\n",
       "  <tbody>\n",
       "    <tr>\n",
       "      <th>0</th>\n",
       "      <td>2401</td>\n",
       "      <td>Borderlands</td>\n",
       "      <td>3</td>\n",
       "      <td>I am coming to the borders and I will kill you...</td>\n",
       "      <td>[coming, borders, kill]</td>\n",
       "      <td>[1, 293, 6432, 320]</td>\n",
       "    </tr>\n",
       "    <tr>\n",
       "      <th>1</th>\n",
       "      <td>2401</td>\n",
       "      <td>Borderlands</td>\n",
       "      <td>3</td>\n",
       "      <td>im getting on borderlands and i will kill you ...</td>\n",
       "      <td>[im, getting, borderlands, kill]</td>\n",
       "      <td>[1, 206, 94, 69, 320]</td>\n",
       "    </tr>\n",
       "    <tr>\n",
       "      <th>2</th>\n",
       "      <td>2401</td>\n",
       "      <td>Borderlands</td>\n",
       "      <td>3</td>\n",
       "      <td>im coming on borderlands and i will murder you...</td>\n",
       "      <td>[im, coming, borderlands, murder]</td>\n",
       "      <td>[1, 206, 293, 69, 1599]</td>\n",
       "    </tr>\n",
       "    <tr>\n",
       "      <th>3</th>\n",
       "      <td>2401</td>\n",
       "      <td>Borderlands</td>\n",
       "      <td>3</td>\n",
       "      <td>im getting on borderlands 2 and i will murder ...</td>\n",
       "      <td>[im, getting, borderlands, 2, murder]</td>\n",
       "      <td>[1, 206, 94, 69, 10, 1599]</td>\n",
       "    </tr>\n",
       "    <tr>\n",
       "      <th>4</th>\n",
       "      <td>2401</td>\n",
       "      <td>Borderlands</td>\n",
       "      <td>3</td>\n",
       "      <td>im getting into borderlands and i can murder y...</td>\n",
       "      <td>[im, getting, borderlands, murder]</td>\n",
       "      <td>[1, 206, 94, 69, 1599]</td>\n",
       "    </tr>\n",
       "  </tbody>\n",
       "</table>\n",
       "</div>"
      ],
      "text/plain": [
       "   2401  Borderlands  Positive  \\\n",
       "0  2401  Borderlands         3   \n",
       "1  2401  Borderlands         3   \n",
       "2  2401  Borderlands         3   \n",
       "3  2401  Borderlands         3   \n",
       "4  2401  Borderlands         3   \n",
       "\n",
       "  im getting on borderlands and i will murder you all ,  \\\n",
       "0  I am coming to the borders and I will kill you...      \n",
       "1  im getting on borderlands and i will kill you ...      \n",
       "2  im coming on borderlands and i will murder you...      \n",
       "3  im getting on borderlands 2 and i will murder ...      \n",
       "4  im getting into borderlands and i can murder y...      \n",
       "\n",
       "                         tokensed_tweets                        vect  \n",
       "0                [coming, borders, kill]         [1, 293, 6432, 320]  \n",
       "1       [im, getting, borderlands, kill]       [1, 206, 94, 69, 320]  \n",
       "2      [im, coming, borderlands, murder]     [1, 206, 293, 69, 1599]  \n",
       "3  [im, getting, borderlands, 2, murder]  [1, 206, 94, 69, 10, 1599]  \n",
       "4     [im, getting, borderlands, murder]      [1, 206, 94, 69, 1599]  "
      ]
     },
     "execution_count": 64,
     "metadata": {},
     "output_type": "execute_result"
    }
   ],
   "source": [
    "df.head()"
   ]
  },
  {
   "cell_type": "code",
   "execution_count": 36,
   "id": "524fe615",
   "metadata": {},
   "outputs": [],
   "source": [
    "w2v = Word2Vec(df['tokensed_tweets'], vector_size=256, window=10, min_count=10, workers=4, sg=1)"
   ]
  },
  {
   "cell_type": "code",
   "execution_count": 37,
   "id": "f55e5be5",
   "metadata": {},
   "outputs": [
    {
     "data": {
      "text/plain": [
       "array([ 0.38369507, -0.1157565 , -0.17306708, -0.22671993, -0.04415914,\n",
       "        0.4395917 , -0.05043685, -0.09256136,  0.19083755,  0.14152518,\n",
       "       -0.16180374, -0.07047958,  0.06418104, -0.1574289 , -0.3921977 ,\n",
       "        0.39534914, -0.19979782, -0.22270587,  0.01518263,  0.368144  ,\n",
       "       -0.274407  , -0.3316497 , -0.15003541, -0.76313734, -0.08232411,\n",
       "        0.03283606,  0.31114498,  0.36861625,  0.03338351, -0.03955861,\n",
       "        0.3517768 , -0.0112905 ,  0.05466387, -0.34393415, -0.3557624 ,\n",
       "       -0.12249655,  0.11886567, -0.45759258, -0.06025662,  0.08093195,\n",
       "       -0.03882565,  0.0212869 , -0.21674177, -0.09624472, -0.00582539,\n",
       "       -0.22276722,  0.0141505 , -0.21588062,  0.17282419, -0.27458158,\n",
       "        0.00501057,  0.01004602,  0.08065832, -0.01685985,  0.22572012,\n",
       "       -0.05692507, -0.16712938, -0.07323501, -0.00385505,  0.14918543,\n",
       "       -0.21410525,  0.07572555, -0.05291244,  0.20495269,  0.3279994 ,\n",
       "        0.21532027, -0.28017503,  0.14827643,  0.01221525, -0.32602775,\n",
       "        0.21339098, -0.15554884, -0.04409518, -0.22387554, -0.24495968,\n",
       "       -0.01241207,  0.1864238 , -0.2605077 ,  0.07873527,  0.11536083,\n",
       "        0.37171412, -0.01426395, -0.2955893 , -0.06731356, -0.07415266,\n",
       "        0.14400324,  0.00488243,  0.30951387, -0.48417845, -0.03591776,\n",
       "       -0.25955358,  0.12158474,  0.20200543,  0.37177008,  0.3340953 ,\n",
       "        0.05695925,  0.07763572,  0.18721908, -0.22788322,  0.19381611,\n",
       "       -0.02805308,  0.05093562, -0.24378853, -0.09180142,  0.3732156 ,\n",
       "        0.19636546,  0.04718286, -0.1165292 ,  0.1913301 , -0.26910287,\n",
       "        0.0178972 ,  0.11588769, -0.11932449,  0.07436776,  0.27103913,\n",
       "       -0.08145134, -0.03887074, -0.30059627,  0.08332706,  0.10311027,\n",
       "       -0.10535985, -0.21043003, -0.20422101,  0.07501019, -0.1439678 ,\n",
       "       -0.12277415,  0.15078518, -0.36677095, -0.03538126,  0.10996759,\n",
       "        0.12658824, -0.35550505,  0.29158986, -0.1705301 , -0.08413562,\n",
       "       -0.06631589, -0.214285  , -0.01105932, -0.1957053 ,  0.08882973,\n",
       "        0.03568152, -0.08177907, -0.17399353,  0.42297158,  0.10904286,\n",
       "       -0.3891089 ,  0.15940514,  0.06047539, -0.08589993, -0.4283482 ,\n",
       "       -0.13155614, -0.02425375,  0.0286883 ,  0.3565997 ,  0.12189008,\n",
       "        0.251044  ,  0.49104294, -0.01607382, -0.49450642, -0.067492  ,\n",
       "        0.21787022, -0.08826873,  0.18837118, -0.17445856, -0.31026587,\n",
       "       -0.20769823, -0.01317261,  0.04968146,  0.11671946,  0.02141493,\n",
       "       -0.03668859,  0.05784636,  0.05563201,  0.27901024, -0.16096622,\n",
       "        0.05889923,  0.12525839,  0.28816056, -0.37861067,  0.4308709 ,\n",
       "        0.35026345, -0.23385717,  0.22079279,  0.04809464,  0.13961865,\n",
       "        0.2628675 , -0.11810368, -0.30542696, -0.11548793,  0.02710992,\n",
       "       -0.02793202,  0.07558934,  0.33705986, -0.18091772, -0.12086026,\n",
       "        0.16391973, -0.00255807,  0.03869194,  0.23086822, -0.15972018,\n",
       "        0.00247612, -0.09125008,  0.00192502, -0.14207694, -0.03920005,\n",
       "        0.21440454,  0.02545584,  0.16175081, -0.17431517, -0.42723936,\n",
       "       -0.05026734, -0.17630719, -0.33375147, -0.4129545 , -0.2446369 ,\n",
       "       -0.23573065,  0.09462119, -0.15360333, -0.28508046,  0.10647507,\n",
       "        0.16720213, -0.13827468,  0.08637402,  0.15593365, -0.16634506,\n",
       "        0.28818777,  0.16356988, -0.0905823 ,  0.13738622, -0.12108395,\n",
       "       -0.13359606, -0.11442151,  0.02634394, -0.16892454, -0.20751542,\n",
       "        0.47625577,  0.2115597 ,  0.09609691, -0.13464914,  0.2712501 ,\n",
       "        0.16502136, -0.24401896,  0.04828412,  0.04023634,  0.001949  ,\n",
       "        0.09768748,  0.65757513,  0.0237275 ,  0.3228797 , -0.18060724,\n",
       "        0.06569254,  0.11014549, -0.24038444, -0.20170437, -0.07347369,\n",
       "        0.17102535], dtype=float32)"
      ]
     },
     "execution_count": 37,
     "metadata": {},
     "output_type": "execute_result"
    }
   ],
   "source": [
    "w2v.wv.get_vector('android')"
   ]
  },
  {
   "cell_type": "code",
   "execution_count": 38,
   "id": "fcecb260",
   "metadata": {},
   "outputs": [
    {
     "data": {
      "text/plain": [
       "[('ios', 0.7698169946670532),\n",
       " ('api', 0.6740089654922485),\n",
       " ('itt', 0.6546459794044495),\n",
       " ('os', 0.5978164672851562),\n",
       " ('processor', 0.5971769094467163),\n",
       " ('lite', 0.5941829681396484),\n",
       " ('32gb', 0.5896753668785095),\n",
       " ('failure', 0.5870147943496704),\n",
       " ('redownloaded', 0.5806881189346313),\n",
       " ('pso2', 0.577908456325531)]"
      ]
     },
     "execution_count": 38,
     "metadata": {},
     "output_type": "execute_result"
    }
   ],
   "source": [
    "w2v.wv.most_similar('android')"
   ]
  },
  {
   "cell_type": "code",
   "execution_count": 39,
   "id": "ff971cce",
   "metadata": {},
   "outputs": [
    {
     "data": {
      "text/plain": [
       "7884"
      ]
     },
     "execution_count": 39,
     "metadata": {},
     "output_type": "execute_result"
    }
   ],
   "source": [
    "word_vocab = w2v.wv.key_to_index\n",
    "len(word_vocab.keys())"
   ]
  },
  {
   "cell_type": "code",
   "execution_count": 40,
   "id": "93fc3c13",
   "metadata": {},
   "outputs": [
    {
     "data": {
      "text/plain": [
       "array(['Positive', 'Neutral', 'Negative', 'Irrelevant'], dtype=object)"
      ]
     },
     "execution_count": 40,
     "metadata": {},
     "output_type": "execute_result"
    }
   ],
   "source": [
    "df.Positive.unique()"
   ]
  },
  {
   "cell_type": "code",
   "execution_count": 41,
   "id": "6f62122b",
   "metadata": {},
   "outputs": [
    {
     "data": {
      "text/html": [
       "<div>\n",
       "<style scoped>\n",
       "    .dataframe tbody tr th:only-of-type {\n",
       "        vertical-align: middle;\n",
       "    }\n",
       "\n",
       "    .dataframe tbody tr th {\n",
       "        vertical-align: top;\n",
       "    }\n",
       "\n",
       "    .dataframe thead th {\n",
       "        text-align: right;\n",
       "    }\n",
       "</style>\n",
       "<table border=\"1\" class=\"dataframe\">\n",
       "  <thead>\n",
       "    <tr style=\"text-align: right;\">\n",
       "      <th></th>\n",
       "      <th>2401</th>\n",
       "      <th>Borderlands</th>\n",
       "      <th>Positive</th>\n",
       "      <th>im getting on borderlands and i will murder you all ,</th>\n",
       "      <th>tokensed_tweets</th>\n",
       "    </tr>\n",
       "  </thead>\n",
       "  <tbody>\n",
       "    <tr>\n",
       "      <th>0</th>\n",
       "      <td>2401</td>\n",
       "      <td>Borderlands</td>\n",
       "      <td>3</td>\n",
       "      <td>I am coming to the borders and I will kill you...</td>\n",
       "      <td>[coming, borders, kill]</td>\n",
       "    </tr>\n",
       "    <tr>\n",
       "      <th>1</th>\n",
       "      <td>2401</td>\n",
       "      <td>Borderlands</td>\n",
       "      <td>3</td>\n",
       "      <td>im getting on borderlands and i will kill you ...</td>\n",
       "      <td>[im, getting, borderlands, kill]</td>\n",
       "    </tr>\n",
       "    <tr>\n",
       "      <th>2</th>\n",
       "      <td>2401</td>\n",
       "      <td>Borderlands</td>\n",
       "      <td>3</td>\n",
       "      <td>im coming on borderlands and i will murder you...</td>\n",
       "      <td>[im, coming, borderlands, murder]</td>\n",
       "    </tr>\n",
       "    <tr>\n",
       "      <th>3</th>\n",
       "      <td>2401</td>\n",
       "      <td>Borderlands</td>\n",
       "      <td>3</td>\n",
       "      <td>im getting on borderlands 2 and i will murder ...</td>\n",
       "      <td>[im, getting, borderlands, 2, murder]</td>\n",
       "    </tr>\n",
       "    <tr>\n",
       "      <th>4</th>\n",
       "      <td>2401</td>\n",
       "      <td>Borderlands</td>\n",
       "      <td>3</td>\n",
       "      <td>im getting into borderlands and i can murder y...</td>\n",
       "      <td>[im, getting, borderlands, murder]</td>\n",
       "    </tr>\n",
       "  </tbody>\n",
       "</table>\n",
       "</div>"
      ],
      "text/plain": [
       "   2401  Borderlands  Positive  \\\n",
       "0  2401  Borderlands         3   \n",
       "1  2401  Borderlands         3   \n",
       "2  2401  Borderlands         3   \n",
       "3  2401  Borderlands         3   \n",
       "4  2401  Borderlands         3   \n",
       "\n",
       "  im getting on borderlands and i will murder you all ,  \\\n",
       "0  I am coming to the borders and I will kill you...      \n",
       "1  im getting on borderlands and i will kill you ...      \n",
       "2  im coming on borderlands and i will murder you...      \n",
       "3  im getting on borderlands 2 and i will murder ...      \n",
       "4  im getting into borderlands and i can murder y...      \n",
       "\n",
       "                         tokensed_tweets  \n",
       "0                [coming, borders, kill]  \n",
       "1       [im, getting, borderlands, kill]  \n",
       "2      [im, coming, borderlands, murder]  \n",
       "3  [im, getting, borderlands, 2, murder]  \n",
       "4     [im, getting, borderlands, murder]  "
      ]
     },
     "execution_count": 41,
     "metadata": {},
     "output_type": "execute_result"
    }
   ],
   "source": [
    "from sklearn.preprocessing import LabelEncoder\n",
    "\n",
    "encoder = LabelEncoder()\n",
    "\n",
    "df['Positive'] = encoder.fit_transform(df['Positive'])\n",
    "df.head()"
   ]
  },
  {
   "cell_type": "code",
   "execution_count": 42,
   "id": "d1dc2e12",
   "metadata": {},
   "outputs": [
    {
     "data": {
      "text/plain": [
       "array([3, 2, 1, 0])"
      ]
     },
     "execution_count": 42,
     "metadata": {},
     "output_type": "execute_result"
    }
   ],
   "source": [
    "df.Positive.unique()"
   ]
  },
  {
   "cell_type": "code",
   "execution_count": 43,
   "id": "c26976f6",
   "metadata": {},
   "outputs": [],
   "source": [
    "word_vocab = {k:(v+3) for k,v in word_vocab.items()}\n",
    "word_vocab[\"<PAD>\"] = 0\n",
    "word_vocab[\"<START>\"] = 1\n",
    "word_vocab[\"<UNKNOWN>\"] = 2\n",
    "\n",
    "reverse_word_vocab = dict([(value, key) for (key, value) in word_vocab.items()])\n",
    "\n",
    "# index sequence to text\n",
    "def decode_review(text):\n",
    "    return ' '.join([reverse_word_vocab.get(i, '?') for i in text])\n",
    "\n",
    "# text to index sequence\n",
    "def encode_review(text):\n",
    "    text = ['<START>'] + text\n",
    "    idxs = np.array([word_vocab.get(word, word_vocab['<UNKNOWN>']) for word in text])\n",
    "    return idxs\n"
   ]
  },
  {
   "cell_type": "code",
   "execution_count": 44,
   "id": "98a15934",
   "metadata": {},
   "outputs": [
    {
     "name": "stdout",
     "output_type": "stream",
     "text": [
      "['im', 'getting', 'borderlands', 'kill']\n",
      "[  1 206  94  69 320]\n",
      "Example of a decoded review: \n",
      "<START> im getting borderlands kill\n"
     ]
    }
   ],
   "source": [
    "df['vect'] = df.tokensed_tweets.apply(encode_review)\n",
    "\n",
    "print(df.tokensed_tweets[1])\n",
    "print(df.vect[1])\n",
    "print('Example of a decoded review: \\n{}'.format(decode_review(df.vect[1])))"
   ]
  },
  {
   "cell_type": "code",
   "execution_count": 50,
   "id": "a495fe3b",
   "metadata": {},
   "outputs": [],
   "source": [
    "from sklearn.model_selection import train_test_split\n",
    "X_train, X_test, y_train, y_test = train_test_split(df.vect, df.Positive, test_size=0.2, random_state=40)"
   ]
  },
  {
   "cell_type": "code",
   "execution_count": 51,
   "id": "733a1281",
   "metadata": {},
   "outputs": [
    {
     "data": {
      "text/plain": [
       "9952     [1, 217, 187, 55, 267, 1957, 4823, 1069, 63, 3...\n",
       "5667     [1, 110, 298, 551, 945, 42, 247, 429, 722, 309...\n",
       "38790                               [1, 39, 2, 1154, 1233]\n",
       "32604    [1, 34, 380, 95, 197, 86, 345, 1564, 146, 4, 4...\n",
       "29729    [1, 214, 2, 1665, 56, 103, 978, 2062, 3, 93, 6...\n",
       "Name: vect, dtype: object"
      ]
     },
     "execution_count": 51,
     "metadata": {},
     "output_type": "execute_result"
    }
   ],
   "source": [
    "X_train[:5]"
   ]
  },
  {
   "cell_type": "code",
   "execution_count": 52,
   "id": "af09f8fa",
   "metadata": {},
   "outputs": [
    {
     "data": {
      "text/plain": [
       "9952     2\n",
       "5667     2\n",
       "38790    1\n",
       "32604    2\n",
       "29729    1\n",
       "Name: Positive, dtype: int32"
      ]
     },
     "execution_count": 52,
     "metadata": {},
     "output_type": "execute_result"
    }
   ],
   "source": [
    "y_train[:5]"
   ]
  },
  {
   "cell_type": "code",
   "execution_count": 53,
   "id": "f95beb93",
   "metadata": {},
   "outputs": [],
   "source": [
    "from sklearn.preprocessing import OneHotEncoder\n",
    "ohe = OneHotEncoder(sparse=False)\n",
    "y_train = ohe.fit_transform(np.array(y_train).reshape(-1, 1))\n",
    "y_test = ohe.fit_transform(np.array(y_test).reshape(-1, 1))"
   ]
  },
  {
   "cell_type": "code",
   "execution_count": 54,
   "id": "26e77f0d",
   "metadata": {},
   "outputs": [
    {
     "data": {
      "text/plain": [
       "array([[0., 0., 1., 0.],\n",
       "       [0., 0., 1., 0.],\n",
       "       [0., 1., 0., 0.],\n",
       "       [0., 0., 1., 0.],\n",
       "       [0., 1., 0., 0.]])"
      ]
     },
     "execution_count": 54,
     "metadata": {},
     "output_type": "execute_result"
    }
   ],
   "source": [
    "y_train[:5]"
   ]
  },
  {
   "cell_type": "code",
   "execution_count": 55,
   "id": "4b41c420",
   "metadata": {},
   "outputs": [
    {
     "name": "stdout",
     "output_type": "stream",
     "text": [
      "Length examples: [128, 128]\n",
      "=====================================\n",
      "Entry example: [   1  111   80 1253   52   84   81    2   78  359  288   24  266 1558\n",
      "  104   84   63  111  586  178 1469   98    0    0    0    0    0    0\n",
      "    0    0    0    0    0    0    0    0    0    0    0    0    0    0\n",
      "    0    0    0    0    0    0    0    0    0    0    0    0    0    0\n",
      "    0    0    0    0    0    0    0    0    0    0    0    0    0    0\n",
      "    0    0    0    0    0    0    0    0    0    0    0    0    0    0\n",
      "    0    0    0    0    0    0    0    0    0    0    0    0    0    0\n",
      "    0    0    0    0    0    0    0    0    0    0    0    0    0    0\n",
      "    0    0    0    0    0    0    0    0    0    0    0    0    0    0\n",
      "    0    0]\n"
     ]
    }
   ],
   "source": [
    "from random import randint\n",
    "\n",
    "MAX_SEQ_LEN = 128 # Final sequence length\n",
    "\n",
    "train_data = tf.keras.preprocessing.sequence.pad_sequences(\n",
    "    X_train,\n",
    "    value=word_vocab[\"<PAD>\"],\n",
    "    padding='post',\n",
    "    maxlen=MAX_SEQ_LEN)\n",
    "\n",
    "valid_data = tf.keras.preprocessing.sequence.pad_sequences(\n",
    "    X_test,\n",
    "    value=word_vocab[\"<PAD>\"],\n",
    "    padding='post',\n",
    "    maxlen=MAX_SEQ_LEN)\n",
    "\n",
    "print(\"Length examples: {}\".format([len(train_data[randint(1, 100)]), len(train_data[1])]))\n",
    "print('=====================================')\n",
    "print(\"Entry example: {}\".format(train_data[randint(1, 100)]))"
   ]
  },
  {
   "cell_type": "code",
   "execution_count": 56,
   "id": "2b6f7d48",
   "metadata": {},
   "outputs": [
    {
     "name": "stdout",
     "output_type": "stream",
     "text": [
      "Model: \"sequential\"\n",
      "_________________________________________________________________\n",
      " Layer (type)                Output Shape              Param #   \n",
      "=================================================================\n",
      " embedding (Embedding)       (None, None, 64)          1725440   \n",
      "                                                                 \n",
      " bidirectional (Bidirection  (None, None, 64)          24832     \n",
      " al)                                                             \n",
      "                                                                 \n",
      " batch_normalization (Batch  (None, None, 64)          256       \n",
      " Normalization)                                                  \n",
      "                                                                 \n",
      " bidirectional_1 (Bidirecti  (None, None, 64)          24832     \n",
      " onal)                                                           \n",
      "                                                                 \n",
      " batch_normalization_1 (Bat  (None, None, 64)          256       \n",
      " chNormalization)                                                \n",
      "                                                                 \n",
      " bidirectional_2 (Bidirecti  (None, 64)                24832     \n",
      " onal)                                                           \n",
      "                                                                 \n",
      " dense (Dense)               (None, 4)                 260       \n",
      "                                                                 \n",
      "=================================================================\n",
      "Total params: 1800708 (6.87 MB)\n",
      "Trainable params: 1800452 (6.87 MB)\n",
      "Non-trainable params: 256 (1.00 KB)\n",
      "_________________________________________________________________\n"
     ]
    }
   ],
   "source": [
    "BATCH_SIZE = 256\n",
    "\n",
    "model_lstm = tf.keras.Sequential([\n",
    "    tf.keras.layers.Embedding(26960, 64),\n",
    "    tf.keras.layers.Bidirectional(\n",
    "        tf.keras.layers.LSTM(32, return_sequences=True, dropout=0.5, recurrent_dropout=0.5)\n",
    "        ),\n",
    "    tf.keras.layers.BatchNormalization(),\n",
    "    tf.keras.layers.Bidirectional(\n",
    "        tf.keras.layers.LSTM(32, return_sequences=True, dropout=0.5, recurrent_dropout=0.5)\n",
    "        ),\n",
    "    tf.keras.layers.BatchNormalization(),\n",
    "    tf.keras.layers.Bidirectional(\n",
    "        tf.keras.layers.LSTM(32, return_sequences=False, dropout=0.5, recurrent_dropout=0.5)\n",
    "        ),\n",
    "    tf.keras.layers.Dense(4, activation='softmax'),\n",
    "])\n",
    "model_lstm.summary()\n",
    "\n",
    "model_lstm.compile(optimizer=tf.keras.optimizers.Adam(1e-3),\n",
    "                loss=tf.keras.losses.categorical_crossentropy,\n",
    "                metrics=[tf.keras.metrics.AUC()])"
   ]
  },
  {
   "cell_type": "code",
   "execution_count": 57,
   "id": "a2712c4d",
   "metadata": {},
   "outputs": [
    {
     "data": {
      "image/png": "[encoded data removed]",
      "text/plain": [
       "<Figure size 1200x800 with 2 Axes>"
      ]
     },
     "metadata": {},
     "output_type": "display_data"
    },
    {
     "name": "stdout",
     "output_type": "stream",
     "text": [
      "auc\n",
      "\ttraining         \t (min:    0.749, max:    0.949, cur:    0.949)\n",
      "\tvalidation       \t (min:    0.825, max:    0.936, cur:    0.936)\n",
      "Loss\n",
      "\ttraining         \t (min:    0.546, max:    1.157, cur:    0.546)\n",
      "\tvalidation       \t (min:    0.622, max:    1.120, cur:    0.622)\n",
      "\b\b\b\b\b\b\b\b\b\b\b\b\b\b\b\b\b\b\b\b\b\b\b\b\b\b\b\b\b\b\b\b\b\b\b\b\b\b\b\b\b\b\b\b\b\b\b\b\b\b\b\b\b\b\b\b\b\b\b\b\b\b\b\b\b\b\b\b\b\b\b\b\b\b\b\b\b\b\b\r",
      "232/232 [==============================] - 30394s 132s/step - loss: 0.5458 - auc: 0.9490 - val_loss: 0.6219 - val_auc: 0.9361\n"
     ]
    }
   ],
   "source": [
    "EPOCHS = 5\n",
    "history = model_lstm.fit(\n",
    "    train_data, y_train,\n",
    "    batch_size=BATCH_SIZE,\n",
    "    validation_data=(valid_data, y_test),\n",
    "    epochs=EPOCHS,\n",
    "    callbacks=[PlotLossesCallback()])"
   ]
  },
  {
   "cell_type": "code",
   "execution_count": 58,
   "id": "9e96af2a",
   "metadata": {},
   "outputs": [
    {
     "name": "stdout",
     "output_type": "stream",
     "text": [
      "1/1 [==============================] - 3s 3s/step\n"
     ]
    },
    {
     "data": {
      "text/plain": [
       "array([[0.00275263, 0.96033204, 0.02790229, 0.0090131 ]], dtype=float32)"
      ]
     },
     "execution_count": 58,
     "metadata": {},
     "output_type": "execute_result"
    }
   ],
   "source": [
    "model_lstm.predict(valid_data[0, None])"
   ]
  },
  {
   "cell_type": "code",
   "execution_count": 59,
   "id": "68f0b471",
   "metadata": {},
   "outputs": [
    {
     "name": "stdout",
     "output_type": "stream",
     "text": [
      "463/463 [==============================] - 35s 77ms/step - loss: 0.6219 - auc: 0.9361\n",
      "Test loss: 0.6219\n",
      "Test accuracy: 93.61 %\n"
     ]
    }
   ],
   "source": [
    "results = model_lstm.evaluate(valid_data, y_test)\n",
    "\n",
    "print('Test loss: {:.4f}'.format(results[0]))\n",
    "print('Test accuracy: {:.2f} %'.format(results[1]*100))"
   ]
  }
 ],
 "metadata": {
  "kernelspec": {
   "display_name": "Python 3 (ipykernel)",
   "language": "python",
   "name": "python3"
  },
  "language_info": {
   "codemirror_mode": {
    "name": "ipython",
    "version": 3
   },
   "file_extension": ".py",
   "mimetype": "text/x-python",
   "name": "python",
   "nbconvert_exporter": "python",
   "pygments_lexer": "ipython3",
   "version": "3.8.10"
  }
 },
 "nbformat": 4,
 "nbformat_minor": 5
}
